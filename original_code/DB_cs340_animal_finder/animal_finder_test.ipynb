{
 "cells": [
  {
   "cell_type": "code",
   "execution_count": null,
   "outputs": [],
   "source": [
    "from animal_shelter import AnimalShelter\n",
    "import json"
   ],
   "metadata": {
    "collapsed": false,
    "is_executing": true
   }
  },
  {
   "cell_type": "code",
   "execution_count": null,
   "metadata": {
    "ExecuteTime": {
     "start_time": "2024-01-22T03:51:07.223472800Z"
    }
   },
   "outputs": [],
   "source": [
    "shelter = AnimalShelter(username=\"aacuser\", password=\"3935\")\n",
    "\n",
    "data = {'age_upon_outcome':'12 years','animal_type':'Cat','name': 'Smitten'}"
   ]
  },
  {
   "cell_type": "code",
   "execution_count": null,
   "metadata": {
    "ExecuteTime": {
     "start_time": "2024-01-22T03:51:07.224960500Z"
    }
   },
   "outputs": [],
   "source": [
    "print(shelter.create(data))"
   ]
  },
  {
   "cell_type": "code",
   "execution_count": null,
   "metadata": {
    "ExecuteTime": {
     "end_time": "2024-01-22T03:51:07.229424500Z",
     "start_time": "2024-01-22T03:51:07.228928700Z"
    }
   },
   "outputs": [],
   "source": [
    "returnFromRead = shelter.read(data)\n",
    "print(returnFromRead)\n",
    "for result in returnFromRead:\n",
    "    print(result)"
   ]
  },
  {
   "cell_type": "code",
   "execution_count": null,
   "metadata": {
    "ExecuteTime": {
     "end_time": "2024-01-22T03:51:07.229920100Z",
     "start_time": "2024-01-22T03:51:07.229424500Z"
    }
   },
   "outputs": [],
   "source": [
    "filter = {'animal_type':'Cat','name': 'Smitten'}\n",
    "newData = { \"$set\": {'age_upon_outcome':'2 years'} }\n",
    "expectedReturn = {'age_upon_outcome':'2 years','animal_type':'Cat','name': 'Smitten'}"
   ]
  },
  {
   "cell_type": "code",
   "execution_count": null,
   "metadata": {
    "ExecuteTime": {
     "start_time": "2024-01-22T03:51:07.230911700Z"
    }
   },
   "outputs": [],
   "source": [
    "returnFromUpdate = shelter.update(filter, newData)\n",
    "for result in returnFromUpdate:\n",
    "    print(result)"
   ]
  },
  {
   "cell_type": "code",
   "execution_count": null,
   "metadata": {
    "ExecuteTime": {
     "start_time": "2024-01-22T03:51:07.232401800Z"
    }
   },
   "outputs": [],
   "source": [
    "returnFromDelete = shelter.delete({'name': 'Smitten', 'age_upon_outcome': '2 years' })\n",
    "print(f\"Documents Deleted: {returnFromDelete.deleted_count}\")"
   ]
  },
  {
   "cell_type": "code",
   "execution_count": null,
   "metadata": {
    "ExecuteTime": {
     "end_time": "2024-01-22T03:51:07.239840900Z",
     "start_time": "2024-01-22T03:51:07.233889300Z"
    }
   },
   "outputs": [],
   "source": []
  },
  {
   "cell_type": "code",
   "execution_count": null,
   "metadata": {
    "ExecuteTime": {
     "start_time": "2024-01-22T03:51:07.235376Z"
    }
   },
   "outputs": [],
   "source": []
  }
 ],
 "metadata": {
  "kernelspec": {
   "display_name": "Python 3",
   "language": "python",
   "name": "python3"
  },
  "language_info": {
   "codemirror_mode": {
    "name": "ipython",
    "version": 3
   },
   "file_extension": ".py",
   "mimetype": "text/x-python",
   "name": "python",
   "nbconvert_exporter": "python",
   "pygments_lexer": "ipython3",
   "version": "3.6.9"
  }
 },
 "nbformat": 4,
 "nbformat_minor": 2
}
